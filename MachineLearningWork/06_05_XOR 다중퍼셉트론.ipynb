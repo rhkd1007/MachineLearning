{
 "cells": [
  {
   "cell_type": "code",
   "execution_count": 1,
   "metadata": {},
   "outputs": [],
   "source": [
    "import torch\n",
    "import torch.nn as nn\n",
    "# device = torch.device(\"cuda\" if torch.cuda.is_available() else \"cpu\")\n",
    "device = 'cuda' if torch.cuda.is_available() else 'cpu'\n",
    "torch.manual_seed(777)\n",
    "if device == 'cuda':\n",
    "    torch.cuda.manual_seed_all(777)"
   ]
  },
  {
   "cell_type": "code",
   "execution_count": 2,
   "metadata": {},
   "outputs": [],
   "source": [
    "X =torch.FloatTensor([[0,0],[0,1],[1,0],[1,1]]).to(device)\n",
    "Y =torch.FloatTensor([[0],[1],[1],[0]]).to(device)"
   ]
  },
  {
   "attachments": {},
   "cell_type": "markdown",
   "metadata": {},
   "source": [
    "다층 퍼셉트론을 설계"
   ]
  },
  {
   "cell_type": "code",
   "execution_count": 3,
   "metadata": {},
   "outputs": [],
   "source": [
    "model = nn.Sequential(\n",
    "    nn.Linear(2,10,bias=True),  # input_layer = 2, hidden_layer1 = 10\n",
    "    nn.Sigmoid(),\n",
    "    nn.Linear(10,10,bias=True),  # hidden_layer1 = 10, hidden_layer2 = 10\n",
    "    nn.Sigmoid(),\n",
    "    nn.Linear(10,10,bias=True),  # hidden_layer2 = 10, hidden_layer3 = 10\n",
    "    nn.Sigmoid(),\n",
    "    nn.Linear(10,1,bias=True),  # hidden_layer3 = 10, output_layer = 1\n",
    "    nn.Sigmoid(),\n",
    "    ).to(device)"
   ]
  },
  {
   "cell_type": "code",
   "execution_count": 4,
   "metadata": {},
   "outputs": [],
   "source": [
    "#비용 함수와 옵티마이저를 선언\n",
    "criterion = torch.nn.BCELoss().to(device)\n",
    "optimizer = torch.optim.SGD(model.parameters(), lr=1) # modified learning rate from 0.1 to 1"
   ]
  },
  {
   "attachments": {},
   "cell_type": "markdown",
   "metadata": {},
   "source": [
    "총 10,001번의 에포크를 수행합니다. 각 에포크마다 역전파가 수행된다고 보면 되겠습니다."
   ]
  },
  {
   "cell_type": "code",
   "execution_count": 5,
   "metadata": {},
   "outputs": [
    {
     "name": "stdout",
     "output_type": "stream",
     "text": [
      "0 0.6948983669281006\n",
      "100 0.693155825138092\n",
      "200 0.6931535601615906\n",
      "300 0.6931513547897339\n",
      "400 0.693149209022522\n",
      "500 0.6931473016738892\n",
      "600 0.6931453943252563\n",
      "700 0.6931434273719788\n",
      "800 0.6931416988372803\n",
      "900 0.6931397914886475\n",
      "1000 0.6931380033493042\n",
      "1100 0.6931361556053162\n",
      "1200 0.6931343078613281\n",
      "1300 0.6931324005126953\n",
      "1400 0.6931304931640625\n",
      "1500 0.6931284666061401\n",
      "1600 0.6931264400482178\n",
      "1700 0.6931242942810059\n",
      "1800 0.6931220889091492\n",
      "1900 0.6931197047233582\n",
      "2000 0.6931171417236328\n",
      "2100 0.6931145191192627\n",
      "2200 0.6931115984916687\n",
      "2300 0.6931084990501404\n",
      "2400 0.6931051015853882\n",
      "2500 0.6931014657020569\n",
      "2600 0.6930974721908569\n",
      "2700 0.6930930018424988\n",
      "2800 0.6930879950523376\n",
      "2900 0.6930825114250183\n",
      "3000 0.6930763721466064\n",
      "3100 0.6930692195892334\n",
      "3200 0.6930612325668335\n",
      "3300 0.6930519342422485\n",
      "3400 0.6930410861968994\n",
      "3500 0.6930283904075623\n",
      "3600 0.6930132508277893\n",
      "3700 0.6929951310157776\n",
      "3800 0.6929728984832764\n",
      "3900 0.6929453015327454\n",
      "4000 0.6929103136062622\n",
      "4100 0.6928649544715881\n",
      "4200 0.6928046941757202\n",
      "4300 0.692721962928772\n",
      "4400 0.692604124546051\n",
      "4500 0.6924278736114502\n",
      "4600 0.6921480298042297\n",
      "4700 0.6916664838790894\n",
      "4800 0.6907395124435425\n",
      "4900 0.6886203289031982\n",
      "5000 0.6820818185806274\n",
      "5100 0.6472527980804443\n",
      "5200 0.44994843006134033\n",
      "5300 0.041418157517910004\n",
      "5400 0.009738397784531116\n",
      "5500 0.005035833455622196\n",
      "5600 0.0032971729524433613\n",
      "5700 0.0024168307427316904\n",
      "5800 0.0018922279123216867\n",
      "5900 0.0015467405319213867\n",
      "6000 0.0013033139985054731\n",
      "6100 0.0011231712996959686\n",
      "6200 0.0009848718764260411\n",
      "6300 0.0008755262824706733\n",
      "6400 0.000787071418017149\n",
      "6500 0.0007141333189792931\n",
      "6600 0.0006530550308525562\n",
      "6700 0.0006011504447087646\n",
      "6800 0.0005565693136304617\n",
      "6900 0.0005178644205443561\n",
      "7000 0.00048400633386336267\n",
      "7100 0.0004541150410659611\n",
      "7200 0.00042753416346386075\n",
      "7300 0.0004037863982375711\n",
      "7400 0.0003824243613053113\n",
      "7500 0.0003631050349213183\n",
      "7600 0.00034560466883704066\n",
      "7700 0.00032958033261820674\n",
      "7800 0.00031495740404352546\n",
      "7900 0.00030152720864862204\n",
      "8000 0.0002891554613597691\n",
      "8100 0.0002777229528874159\n",
      "8200 0.00026711029931902885\n",
      "8300 0.000257257983321324\n",
      "8400 0.0002480764815118164\n",
      "8500 0.00023949125898070633\n",
      "8600 0.0002314575540367514\n",
      "8700 0.0002239307068521157\n",
      "8800 0.0002168510400224477\n",
      "8900 0.00021021856809966266\n",
      "9000 0.00020391402358654886\n",
      "9100 0.0001979821245186031\n",
      "9200 0.00019239308312535286\n",
      "9300 0.00018708722200244665\n",
      "9400 0.00018206457025371492\n",
      "9500 0.00017725062207318842\n",
      "9600 0.00017273474077228457\n",
      "9700 0.00016841263277456164\n",
      "9800 0.00016429921379312873\n",
      "9900 0.00016036465240176767\n",
      "10000 0.0001565940328873694\n"
     ]
    }
   ],
   "source": [
    "for epoch in range(10001):\n",
    "    optimizer.zero_grad()\n",
    "    # forward 연산\n",
    "    hypothesis = model(X)\n",
    "    \n",
    "\t\t#비용함수\n",
    "    cost = criterion(hypothesis, Y)\n",
    "    cost.backward()\n",
    "    optimizer.step()\n",
    "    \n",
    "\t\t# 100의 배수에 해당되는 에포크마다 비용을 출력\n",
    "    if epoch % 100 == 0 :\n",
    "\t    print(epoch, cost.item())"
   ]
  },
  {
   "cell_type": "code",
   "execution_count": 6,
   "metadata": {},
   "outputs": [
    {
     "name": "stdout",
     "output_type": "stream",
     "text": [
      "모델의 출력값(hypothesis) :  [[1.11739784e-04]\n",
      " [9.99828696e-01]\n",
      " [9.99842167e-01]\n",
      " [1.85383164e-04]]\n",
      "모델의 예측값(predictied) :  [[0.]\n",
      " [1.]\n",
      " [1.]\n",
      " [0.]]\n",
      "실제값(Y) :  [[0.]\n",
      " [1.]\n",
      " [1.]\n",
      " [0.]]\n",
      "정확도(accuracy) :  1.0\n"
     ]
    }
   ],
   "source": [
    "with torch.no_grad():\n",
    "    hypothesis = model(X)\n",
    "    predictied = (hypothesis > 0.5).float()\n",
    "    accuracy = (predictied == Y).float().mean()\n",
    "    # detach() : gradient의 전파를 멈추는 역할\n",
    "    print(\"모델의 출력값(hypothesis) : \",hypothesis.detach().cpu().numpy())\n",
    "    print(\"모델의 예측값(predictied) : \",predictied.detach().cpu().numpy())\n",
    "    print(\"실제값(Y) : \",Y.cpu().numpy())\n",
    "    print(\"정확도(accuracy) : \",accuracy.item())"
   ]
  },
  {
   "cell_type": "code",
   "execution_count": null,
   "metadata": {},
   "outputs": [],
   "source": []
  }
 ],
 "metadata": {
  "kernelspec": {
   "display_name": "base",
   "language": "python",
   "name": "python3"
  },
  "language_info": {
   "codemirror_mode": {
    "name": "ipython",
    "version": 3
   },
   "file_extension": ".py",
   "mimetype": "text/x-python",
   "name": "python",
   "nbconvert_exporter": "python",
   "pygments_lexer": "ipython3",
   "version": "3.9.13"
  },
  "orig_nbformat": 4
 },
 "nbformat": 4,
 "nbformat_minor": 2
}
