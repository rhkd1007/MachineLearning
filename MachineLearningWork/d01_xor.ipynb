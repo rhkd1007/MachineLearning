{
 "cells": [
  {
   "cell_type": "code",
   "execution_count": 8,
   "metadata": {},
   "outputs": [
    {
     "data": {
      "text/plain": [
       "[[0, 0], [0, 1], [1, 0], [1, 1]]"
      ]
     },
     "execution_count": 8,
     "metadata": {},
     "output_type": "execute_result"
    }
   ],
   "source": [
    "from sklearn import svm\n",
    "\n",
    "xor_data = [\n",
    "    [0,0,0],\n",
    "    [0,1,1],\n",
    "    [1,0,1],\n",
    "    [1,1,0]\n",
    "]\n",
    "\n",
    "# 데이터와 레이블 분리하기\n",
    "data = []\n",
    "label = []\n",
    "\n",
    "for row in xor_data:\n",
    "\t\tp = row[0]\n",
    "\t\tq = row[1]\n",
    "\t\tr = row[2]\n",
    "\t\tdata.append([p,q])\n",
    "\t\tlabel.append(r)\n",
    "data"
   ]
  },
  {
   "cell_type": "code",
   "execution_count": 9,
   "metadata": {},
   "outputs": [
    {
     "data": {
      "text/plain": [
       "[0, 1, 1, 0]"
      ]
     },
     "execution_count": 9,
     "metadata": {},
     "output_type": "execute_result"
    }
   ],
   "source": [
    "label"
   ]
  },
  {
   "attachments": {},
   "cell_type": "markdown",
   "metadata": {},
   "source": [
    "데이터학습"
   ]
  },
  {
   "cell_type": "code",
   "execution_count": 10,
   "metadata": {},
   "outputs": [
    {
     "data": {
      "text/plain": [
       "SVC()"
      ]
     },
     "execution_count": 10,
     "metadata": {},
     "output_type": "execute_result"
    }
   ],
   "source": [
    "clf = svm.SVC()\n",
    "clf.fit(data, label)"
   ]
  },
  {
   "cell_type": "code",
   "execution_count": 11,
   "metadata": {},
   "outputs": [
    {
     "data": {
      "text/plain": [
       "array([0, 1, 1, 0])"
      ]
     },
     "execution_count": 11,
     "metadata": {},
     "output_type": "execute_result"
    }
   ],
   "source": [
    "#예측\n",
    "pre = clf.predict(data)\n",
    "pre"
   ]
  },
  {
   "cell_type": "code",
   "execution_count": 14,
   "metadata": {},
   "outputs": [
    {
     "name": "stdout",
     "output_type": "stream",
     "text": [
      "정답률 :  4 / 4 = 1.0\n"
     ]
    }
   ],
   "source": [
    "ok = 0\n",
    "total = 0\n",
    "for idx, answer in enumerate(label) : # [0, 1, 1, 0]\n",
    "    p = pre[idx] # 예측한 답\n",
    "    if p == answer : # 예측답 == 정답\n",
    "        ok+=1 # 맞춘 횟수\n",
    "    total+=1 # 전체횟수\n",
    "print('정답률 : ' , ok,\"/\",total,\"=\",ok/total)"
   ]
  },
  {
   "cell_type": "code",
   "execution_count": 17,
   "metadata": {},
   "outputs": [
    {
     "name": "stdout",
     "output_type": "stream",
     "text": [
      "정답률 :  4 / 4 = 1.0\n"
     ]
    }
   ],
   "source": [
    "ok = 0\n",
    "\n",
    "for idx, answer in enumerate(label) : # [0, 1, 1, 0]\n",
    "    p = pre[idx] # 예측한 답\n",
    "    if p == answer : # 예측답 == 정답\n",
    "        ok+=1 # 맞춘 횟수\n",
    "    \n",
    "print('정답률 : ' , ok,\"/\",len(label),\"=\",ok/len(label))"
   ]
  },
  {
   "cell_type": "code",
   "execution_count": null,
   "metadata": {},
   "outputs": [],
   "source": []
  }
 ],
 "metadata": {
  "kernelspec": {
   "display_name": "base",
   "language": "python",
   "name": "python3"
  },
  "language_info": {
   "codemirror_mode": {
    "name": "ipython",
    "version": 3
   },
   "file_extension": ".py",
   "mimetype": "text/x-python",
   "name": "python",
   "nbconvert_exporter": "python",
   "pygments_lexer": "ipython3",
   "version": "3.9.13"
  },
  "orig_nbformat": 4
 },
 "nbformat": 4,
 "nbformat_minor": 2
}
