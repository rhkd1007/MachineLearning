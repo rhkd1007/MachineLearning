{
 "cells": [
  {
   "cell_type": "code",
   "execution_count": 10,
   "metadata": {},
   "outputs": [],
   "source": [
    "import torch\n",
    "import torch.nn as nn\n",
    "import torch.nn.functional as F"
   ]
  },
  {
   "cell_type": "code",
   "execution_count": 11,
   "metadata": {},
   "outputs": [
    {
     "data": {
      "text/plain": [
       "<torch._C.Generator at 0x2496f612970>"
      ]
     },
     "execution_count": 11,
     "metadata": {},
     "output_type": "execute_result"
    }
   ],
   "source": [
    "# 현재 실습하고 있는 파이썬 코드를 재실행해도 다음에도 같은 결과가 나오도록 랜덤 시드\n",
    "torch.manual_seed(1)"
   ]
  },
  {
   "cell_type": "code",
   "execution_count": 12,
   "metadata": {},
   "outputs": [],
   "source": [
    "x_train = torch.FloatTensor([[1],[2],[3]])\n",
    "y_train = torch.FloatTensor([[2],[4],[6]])"
   ]
  },
  {
   "cell_type": "code",
   "execution_count": 13,
   "metadata": {},
   "outputs": [
    {
     "name": "stdout",
     "output_type": "stream",
     "text": [
      "tensor([[1.],\n",
      "        [2.],\n",
      "        [3.]])\n",
      "torch.Size([3, 1])\n"
     ]
    }
   ],
   "source": [
    "print(x_train)\n",
    "print(x_train.shape)"
   ]
  },
  {
   "cell_type": "code",
   "execution_count": 14,
   "metadata": {},
   "outputs": [
    {
     "name": "stdout",
     "output_type": "stream",
     "text": [
      "tensor([0.], requires_grad=True)\n"
     ]
    }
   ],
   "source": [
    "# 가중치 W를 0으로 초기화하고 학습을 통해 값이 변경되는 변수임을 명시함.\n",
    "# y = Wx+b\n",
    "W = torch.zeros(1, requires_grad=True)\n",
    "print(W)"
   ]
  },
  {
   "cell_type": "code",
   "execution_count": 15,
   "metadata": {},
   "outputs": [
    {
     "name": "stdout",
     "output_type": "stream",
     "text": [
      "tensor([0.], requires_grad=True)\n"
     ]
    }
   ],
   "source": [
    "b = torch.zeros(1, requires_grad=True)\n",
    "print(b)"
   ]
  },
  {
   "cell_type": "code",
   "execution_count": 16,
   "metadata": {},
   "outputs": [
    {
     "name": "stdout",
     "output_type": "stream",
     "text": [
      "tensor([[0.],\n",
      "        [0.],\n",
      "        [0.]], grad_fn=<AddBackward0>)\n"
     ]
    }
   ],
   "source": [
    "# h = 0*x + 0\n",
    "hyopthesis = x_train*W + b\n",
    "print(hyopthesis)"
   ]
  },
  {
   "cell_type": "code",
   "execution_count": 17,
   "metadata": {},
   "outputs": [
    {
     "name": "stdout",
     "output_type": "stream",
     "text": [
      "tensor(16., grad_fn=<PowBackward0>)\n"
     ]
    }
   ],
   "source": [
    "# 비용함수 선언하기\n",
    "cost = torch.mean(hyopthesis - y_train)**2\n",
    "print(cost)"
   ]
  },
  {
   "attachments": {},
   "cell_type": "markdown",
   "metadata": {},
   "source": [
    "확률적경사하강법 SGD 사용하고\n",
    "\n",
    "lr 학습률(learnig rate)를 의미"
   ]
  },
  {
   "cell_type": "code",
   "execution_count": 19,
   "metadata": {},
   "outputs": [],
   "source": [
    "import torch.optim as optim\n",
    "\n",
    "optimizer = optim.SGD([W, b], lr=0.01)"
   ]
  },
  {
   "cell_type": "code",
   "execution_count": 20,
   "metadata": {},
   "outputs": [],
   "source": [
    "# gradient를 0으로 초기화\n",
    "optimizer.zero_grad()\n",
    "# 비용 함수를 미분하여 gradient 계산\n",
    "cost.backward()\n",
    "# W와 b를 업데이트\n",
    "optimizer.step()"
   ]
  },
  {
   "cell_type": "code",
   "execution_count": 23,
   "metadata": {},
   "outputs": [
    {
     "name": "stdout",
     "output_type": "stream",
     "text": [
      "Epoch    0/1999 W : 0.187, b : 0.080, Cost : 18.666666\n",
      "Epoch  100/1999 W : 1.746, b : 0.578, Cost : 0.048171\n",
      "Epoch  200/1999 W : 1.800, b : 0.454, Cost : 0.029767\n",
      "Epoch  300/1999 W : 1.843, b : 0.357, Cost : 0.018394\n",
      "Epoch  400/1999 W : 1.876, b : 0.281, Cost : 0.011366\n",
      "Epoch  500/1999 W : 1.903, b : 0.221, Cost : 0.007024\n",
      "Epoch  600/1999 W : 1.924, b : 0.174, Cost : 0.004340\n",
      "Epoch  700/1999 W : 1.940, b : 0.136, Cost : 0.002682\n",
      "Epoch  800/1999 W : 1.953, b : 0.107, Cost : 0.001657\n",
      "Epoch  900/1999 W : 1.963, b : 0.084, Cost : 0.001024\n",
      "Epoch 1000/1999 W : 1.971, b : 0.066, Cost : 0.000633\n",
      "Epoch 1100/1999 W : 1.977, b : 0.052, Cost : 0.000391\n",
      "Epoch 1200/1999 W : 1.982, b : 0.041, Cost : 0.000242\n",
      "Epoch 1300/1999 W : 1.986, b : 0.032, Cost : 0.000149\n",
      "Epoch 1400/1999 W : 1.989, b : 0.025, Cost : 0.000092\n",
      "Epoch 1500/1999 W : 1.991, b : 0.020, Cost : 0.000057\n",
      "Epoch 1600/1999 W : 1.993, b : 0.016, Cost : 0.000035\n",
      "Epoch 1700/1999 W : 1.995, b : 0.012, Cost : 0.000022\n",
      "Epoch 1800/1999 W : 1.996, b : 0.010, Cost : 0.000013\n",
      "Epoch 1900/1999 W : 1.997, b : 0.008, Cost : 0.000008\n"
     ]
    }
   ],
   "source": [
    "# 전체코드\n",
    "# 데이터\n",
    "x_train = torch.FloatTensor([[1],[2],[3]])\n",
    "y_train = torch.FloatTensor([[2],[4],[6]])\n",
    "\n",
    "# 모델 초기화\n",
    "W = torch.zeros(1, requires_grad=True)\n",
    "b = torch.zeros(1, requires_grad=True)\n",
    "\n",
    "# optimizer 설정\n",
    "optimizer = optim.SGD([W, b], lr=0.01)\n",
    "\n",
    "# 원하는 만큼 경사 하강법 반복\n",
    "nb_epochs = 1999\n",
    "for epoch in range(nb_epochs+1):\n",
    "    # H(x) 계산\n",
    "\t\thyopthesis = x_train * W + b\n",
    "\n",
    "\t\t# cost 계산\n",
    "\t\tcost = torch.mean((hyopthesis - y_train)**2)\n",
    "\n",
    "\t\t# cost로 H(x)로 개선\n",
    "\t\toptimizer.zero_grad()\n",
    "\t\tcost.backward()\n",
    "\t\toptimizer.step()\n",
    "\n",
    "\t\t# 100번 마다 로그출력\n",
    "\t\tif epoch % 100 == 0:\n",
    "\t\t\tprint('Epoch {:4d}/{} W : {:.3f}, b : {:.3f}, Cost : {:.6f}'.format(epoch, nb_epochs, W.item(), b.item(), cost.item()))"
   ]
  },
  {
   "cell_type": "code",
   "execution_count": 24,
   "metadata": {},
   "outputs": [],
   "source": [
    "# y = 1.997*x + 0.008   1==> 2 , 2==> 4\n"
   ]
  },
  {
   "cell_type": "code",
   "execution_count": 25,
   "metadata": {},
   "outputs": [
    {
     "name": "stdout",
     "output_type": "stream",
     "text": [
      "수식을 w로 미분한 값 : 2.0\n",
      "수식을 w로 미분한 값 : 4.0\n",
      "수식을 w로 미분한 값 : 6.0\n",
      "수식을 w로 미분한 값 : 8.0\n",
      "수식을 w로 미분한 값 : 10.0\n",
      "수식을 w로 미분한 값 : 12.0\n",
      "수식을 w로 미분한 값 : 14.0\n",
      "수식을 w로 미분한 값 : 16.0\n",
      "수식을 w로 미분한 값 : 18.0\n",
      "수식을 w로 미분한 값 : 20.0\n",
      "수식을 w로 미분한 값 : 22.0\n",
      "수식을 w로 미분한 값 : 24.0\n",
      "수식을 w로 미분한 값 : 26.0\n",
      "수식을 w로 미분한 값 : 28.0\n",
      "수식을 w로 미분한 값 : 30.0\n",
      "수식을 w로 미분한 값 : 32.0\n",
      "수식을 w로 미분한 값 : 34.0\n",
      "수식을 w로 미분한 값 : 36.0\n",
      "수식을 w로 미분한 값 : 38.0\n",
      "수식을 w로 미분한 값 : 40.0\n",
      "수식을 w로 미분한 값 : 42.0\n"
     ]
    }
   ],
   "source": [
    "w = torch.tensor(2.0, requires_grad=True)\n",
    "nb_epochs = 20\n",
    "for eopch in range(nb_epochs+1):\n",
    "    z = 2 * w\n",
    "    z.backward()\n",
    "    print('수식을 w로 미분한 값 : {}'.format(w.grad))"
   ]
  },
  {
   "cell_type": "code",
   "execution_count": 26,
   "metadata": {},
   "outputs": [
    {
     "name": "stdout",
     "output_type": "stream",
     "text": [
      "수식을 w로 미분한 값 : 8.0\n"
     ]
    }
   ],
   "source": [
    "w = torch.tensor(2.0 , requires_grad=True)\n",
    "y = w**2\n",
    "z = 2*y + 5\n",
    "z.backward()\n",
    "print('수식을 w로 미분한 값 : {}'.format(w.grad))"
   ]
  },
  {
   "cell_type": "code",
   "execution_count": null,
   "metadata": {},
   "outputs": [],
   "source": []
  }
 ],
 "metadata": {
  "kernelspec": {
   "display_name": "base",
   "language": "python",
   "name": "python3"
  },
  "language_info": {
   "codemirror_mode": {
    "name": "ipython",
    "version": 3
   },
   "file_extension": ".py",
   "mimetype": "text/x-python",
   "name": "python",
   "nbconvert_exporter": "python",
   "pygments_lexer": "ipython3",
   "version": "3.9.13"
  },
  "orig_nbformat": 4
 },
 "nbformat": 4,
 "nbformat_minor": 2
}
