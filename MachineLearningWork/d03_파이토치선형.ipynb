{
 "cells": [
  {
   "cell_type": "code",
   "execution_count": 54,
   "metadata": {},
   "outputs": [],
   "source": [
    "import torch\n",
    "import torch.nn as nn\n",
    "import torch.nn.functional as F"
   ]
  },
  {
   "cell_type": "code",
   "execution_count": 55,
   "metadata": {},
   "outputs": [
    {
     "data": {
      "text/plain": [
       "<torch._C.Generator at 0x1b04f828990>"
      ]
     },
     "execution_count": 55,
     "metadata": {},
     "output_type": "execute_result"
    }
   ],
   "source": [
    "torch.manual_seed(1)"
   ]
  },
  {
   "cell_type": "code",
   "execution_count": 56,
   "metadata": {},
   "outputs": [
    {
     "data": {
      "text/plain": [
       "Linear(in_features=1, out_features=1, bias=True)"
      ]
     },
     "execution_count": 56,
     "metadata": {},
     "output_type": "execute_result"
    }
   ],
   "source": [
    "# 데이터\n",
    "x_train = torch.FloatTensor([[1],[2],[3]])\n",
    "y_train = torch.FloatTensor([[2],[4],[6]])\n",
    "\n",
    "# 모델을 선언 및 초기화. 단순 선형 회귀\n",
    "model = nn.Linear(1,1)\n",
    "model"
   ]
  },
  {
   "cell_type": "code",
   "execution_count": 57,
   "metadata": {},
   "outputs": [
    {
     "name": "stdout",
     "output_type": "stream",
     "text": [
      "[Parameter containing:\n",
      "tensor([[0.5153]], requires_grad=True), Parameter containing:\n",
      "tensor([-0.4414], requires_grad=True)]\n"
     ]
    }
   ],
   "source": [
    "# modle.parameters()를 사용하여 W와 b 출력\n",
    "print(list(model.parameters()))"
   ]
  },
  {
   "cell_type": "code",
   "execution_count": 58,
   "metadata": {},
   "outputs": [],
   "source": [
    "# optimizer 설정. 경사 하강법 SGD를 사용하고 learning rate를 의미하는 lr은 0.01\n",
    "optimizer = torch.optim.SGD(model.parameters(), lr=0.01)"
   ]
  },
  {
   "cell_type": "code",
   "execution_count": 59,
   "metadata": {},
   "outputs": [
    {
     "name": "stdout",
     "output_type": "stream",
     "text": [
      "Epoch    0/2000  Cost : 13.103541\n",
      "Epoch  100/2000  Cost : 0.002791\n",
      "Epoch  200/2000  Cost : 0.001724\n",
      "Epoch  300/2000  Cost : 0.001066\n",
      "Epoch  400/2000  Cost : 0.000658\n",
      "Epoch  500/2000  Cost : 0.000407\n",
      "Epoch  600/2000  Cost : 0.000251\n",
      "Epoch  700/2000  Cost : 0.000155\n",
      "Epoch  800/2000  Cost : 0.000096\n",
      "Epoch  900/2000  Cost : 0.000059\n",
      "Epoch 1000/2000  Cost : 0.000037\n",
      "Epoch 1100/2000  Cost : 0.000023\n",
      "Epoch 1200/2000  Cost : 0.000014\n",
      "Epoch 1300/2000  Cost : 0.000009\n",
      "Epoch 1400/2000  Cost : 0.000005\n",
      "Epoch 1500/2000  Cost : 0.000003\n",
      "Epoch 1600/2000  Cost : 0.000002\n",
      "Epoch 1700/2000  Cost : 0.000001\n",
      "Epoch 1800/2000  Cost : 0.000001\n",
      "Epoch 1900/2000  Cost : 0.000000\n",
      "Epoch 2000/2000  Cost : 0.000000\n"
     ]
    }
   ],
   "source": [
    "nb_epochs = 2000\n",
    "for epoch in range(nb_epochs+1):\n",
    "    # H(x) 계산\n",
    "\t\tprediction = model(x_train)\n",
    "\n",
    "\t\t# cost 계산\n",
    "\t\tcost = F.mse_loss(prediction, y_train) # 파이토치에서 제공하는 평균제곱오차\n",
    "\n",
    "\t\t# cost로 H(x)로 개선\n",
    "\t\toptimizer.zero_grad() # gradient를 0으로 초기화\n",
    "\t\tcost.backward() # 비용함수를 미분하여 gradient 계산\n",
    "\t\toptimizer.step() # W와 b를 업데이트\n",
    "\n",
    "\t\t# 100번 마다 로그출력\n",
    "\t\tif epoch % 100 == 0:\n",
    "\t\t\tprint('Epoch {:4d}/{}  Cost : {:.6f}'.format(epoch, nb_epochs, cost.item()))"
   ]
  },
  {
   "cell_type": "code",
   "execution_count": 60,
   "metadata": {},
   "outputs": [
    {
     "name": "stdout",
     "output_type": "stream",
     "text": [
      "훈련 후 입력이 4일 때의 예측값 : tensor([[7.9989]], grad_fn=<AddmmBackward0>)\n"
     ]
    }
   ],
   "source": [
    "# 임의의 입력 4를 선언\n",
    "new_var = torch.FloatTensor([[4.0]])\n",
    "# 입력한 값 4에 대해서 예측값 y를 리턴받아서 pred_y 저장\n",
    "pred_y = model(new_var)\n",
    "#y = 2x\n",
    "print('훈련 후 입력이 4일 때의 예측값 :',pred_y)"
   ]
  },
  {
   "cell_type": "code",
   "execution_count": 61,
   "metadata": {},
   "outputs": [
    {
     "name": "stdout",
     "output_type": "stream",
     "text": [
      "[Parameter containing:\n",
      "tensor([[1.9994]], requires_grad=True), Parameter containing:\n",
      "tensor([0.0014], requires_grad=True)]\n"
     ]
    }
   ],
   "source": [
    "print(list(model.parameters()))"
   ]
  },
  {
   "attachments": {},
   "cell_type": "markdown",
   "metadata": {},
   "source": [
    "다중선형회귀 구현하기"
   ]
  },
  {
   "cell_type": "code",
   "execution_count": 62,
   "metadata": {},
   "outputs": [
    {
     "data": {
      "text/plain": [
       "<torch._C.Generator at 0x1b04f828990>"
      ]
     },
     "execution_count": 62,
     "metadata": {},
     "output_type": "execute_result"
    }
   ],
   "source": [
    "torch.manual_seed(1)"
   ]
  },
  {
   "cell_type": "code",
   "execution_count": 63,
   "metadata": {},
   "outputs": [],
   "source": [
    "x_train = torch.FloatTensor([[73, 80, 75],\n",
    "                             [93, 88, 93],\n",
    "                             [89, 91, 90],\n",
    "                             [96, 98, 100],\n",
    "                             [73, 66, 70]])\n",
    "y_train = torch.FloatTensor([[152], [185], [180], [196], [142]])"
   ]
  },
  {
   "cell_type": "code",
   "execution_count": 64,
   "metadata": {},
   "outputs": [
    {
     "name": "stdout",
     "output_type": "stream",
     "text": [
      "[Parameter containing:\n",
      "tensor([[ 0.2975, -0.2548, -0.1119]], requires_grad=True), Parameter containing:\n",
      "tensor([0.2710], requires_grad=True)]\n"
     ]
    }
   ],
   "source": [
    "# 모델 선언 input_dim = 3 , output_dim = 1\n",
    "model = nn.Linear(3,1)\n",
    "print(list(model.parameters()))"
   ]
  },
  {
   "cell_type": "code",
   "execution_count": 65,
   "metadata": {},
   "outputs": [],
   "source": [
    "# lr=1e-5 학습률(learning rate)은 0.00001\n",
    "optimizer = torch.optim.SGD(model.parameters(), lr=1e-5)"
   ]
  },
  {
   "cell_type": "code",
   "execution_count": 66,
   "metadata": {},
   "outputs": [
    {
     "name": "stdout",
     "output_type": "stream",
     "text": [
      "Epoch    0/2000  Cost : 31667.599609\n",
      "Epoch  100/2000  Cost : 0.225993\n",
      "Epoch  200/2000  Cost : 0.223911\n",
      "Epoch  300/2000  Cost : 0.221941\n",
      "Epoch  400/2000  Cost : 0.220059\n",
      "Epoch  500/2000  Cost : 0.218271\n",
      "Epoch  600/2000  Cost : 0.216575\n",
      "Epoch  700/2000  Cost : 0.214950\n",
      "Epoch  800/2000  Cost : 0.213413\n",
      "Epoch  900/2000  Cost : 0.211952\n",
      "Epoch 1000/2000  Cost : 0.210559\n",
      "Epoch 1100/2000  Cost : 0.209230\n",
      "Epoch 1200/2000  Cost : 0.207967\n",
      "Epoch 1300/2000  Cost : 0.206762\n",
      "Epoch 1400/2000  Cost : 0.205618\n",
      "Epoch 1500/2000  Cost : 0.204529\n",
      "Epoch 1600/2000  Cost : 0.203481\n",
      "Epoch 1700/2000  Cost : 0.202486\n",
      "Epoch 1800/2000  Cost : 0.201539\n",
      "Epoch 1900/2000  Cost : 0.200634\n",
      "Epoch 2000/2000  Cost : 0.199770\n"
     ]
    }
   ],
   "source": [
    "nb_epochs = 2000\n",
    "for epoch in range(nb_epochs+1):\n",
    "    # H(x) 계산\n",
    "\t\tprediction = model(x_train)\n",
    "\t\t# cost 계산\n",
    "\t\tcost = F.mse_loss(prediction, y_train)\n",
    "\t\t# cost로 H(x) 개선\n",
    "\t\toptimizer.zero_grad()\n",
    "\t\tcost.backward()\n",
    "\t\toptimizer.step()\n",
    "\n",
    "\t\t# 100번 마다 로그출력\n",
    "\t\tif epoch % 100 == 0:\n",
    "\t\t\tprint('Epoch {:4d}/{}  Cost : {:.6f}'.format(epoch, nb_epochs, cost.item()))"
   ]
  },
  {
   "cell_type": "code",
   "execution_count": 68,
   "metadata": {},
   "outputs": [
    {
     "name": "stdout",
     "output_type": "stream",
     "text": [
      "훈련 후 [73, 80, 75] 예측값 : tensor([[151.2306]], grad_fn=<AddmmBackward0>)\n"
     ]
    }
   ],
   "source": [
    "# 임의의 입력 [73, 80, 75]를 선언\n",
    "new_var = torch.FloatTensor([[73, 80, 75]])\n",
    "# 입력한 값에 대해서 예측값 y를 리턴받아서 pred_y 저장\n",
    "pred_y = model(new_var)\n",
    "print('훈련 후 [73, 80, 75] 예측값 :',pred_y)"
   ]
  },
  {
   "cell_type": "code",
   "execution_count": 69,
   "metadata": {},
   "outputs": [
    {
     "name": "stdout",
     "output_type": "stream",
     "text": [
      "[Parameter containing:\n",
      "tensor([[0.9778, 0.4539, 0.5768]], requires_grad=True), Parameter containing:\n",
      "tensor([0.2802], requires_grad=True)]\n"
     ]
    }
   ],
   "source": [
    "print(list(model.parameters()))"
   ]
  },
  {
   "cell_type": "code",
   "execution_count": null,
   "metadata": {},
   "outputs": [],
   "source": []
  }
 ],
 "metadata": {
  "kernelspec": {
   "display_name": "base",
   "language": "python",
   "name": "python3"
  },
  "language_info": {
   "codemirror_mode": {
    "name": "ipython",
    "version": 3
   },
   "file_extension": ".py",
   "mimetype": "text/x-python",
   "name": "python",
   "nbconvert_exporter": "python",
   "pygments_lexer": "ipython3",
   "version": "3.9.13"
  },
  "orig_nbformat": 4
 },
 "nbformat": 4,
 "nbformat_minor": 2
}
