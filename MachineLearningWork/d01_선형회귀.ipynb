{
 "cells": [
  {
   "cell_type": "code",
   "execution_count": 12,
   "metadata": {},
   "outputs": [],
   "source": [
    "data = [(1,2),(2,2.5),(3,2),\n",
    "        (3,3),(4,3),(5,5),\n",
    "        (6,2),(7,4),(8,5)\n",
    "]\n",
    "# y = ax + b"
   ]
  },
  {
   "cell_type": "code",
   "execution_count": 13,
   "metadata": {},
   "outputs": [
    {
     "name": "stdout",
     "output_type": "stream",
     "text": [
      "6.650000000000001\n"
     ]
    }
   ],
   "source": [
    "# a=0.5, b=0.5 (9.75) / a=0.5, b=1 (7.5)\n",
    "# a=0.4, b=1 (8.33) / a=0.4, b=1.4 (6.65)\n",
    "\n",
    "a = 0.4\n",
    "b = 1.4\n",
    "sums = 0\n",
    "for (x,y) in data:\n",
    "    predict = a*x +b # 0.4*1 + 1.4 \n",
    "    sums += (y-predict) * (y-predict)\n",
    "print(sums)"
   ]
  }
 ],
 "metadata": {
  "kernelspec": {
   "display_name": "base",
   "language": "python",
   "name": "python3"
  },
  "language_info": {
   "codemirror_mode": {
    "name": "ipython",
    "version": 3
   },
   "file_extension": ".py",
   "mimetype": "text/x-python",
   "name": "python",
   "nbconvert_exporter": "python",
   "pygments_lexer": "ipython3",
   "version": "3.9.13"
  },
  "orig_nbformat": 4
 },
 "nbformat": 4,
 "nbformat_minor": 2
}
