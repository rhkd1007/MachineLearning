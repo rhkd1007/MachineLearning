{
 "cells": [
  {
   "attachments": {},
   "cell_type": "markdown",
   "metadata": {},
   "source": [
    "Decision Tree"
   ]
  },
  {
   "cell_type": "code",
   "execution_count": 23,
   "metadata": {},
   "outputs": [],
   "source": [
    "# 날개유무/몸무게/골밀도/날수있는지\n",
    "data = {    \n",
    "    'wing' : [False, True, True, True, True],\n",
    "    'weight' : ['light','heavy','light','heavy','light'],\n",
    "    'density' : ['low','high','high','high','low'],\n",
    "    'fly': [False, False, False, False, True]\n",
    "}"
   ]
  },
  {
   "cell_type": "code",
   "execution_count": 24,
   "metadata": {},
   "outputs": [
    {
     "name": "stdout",
     "output_type": "stream",
     "text": [
      "고양이 : 날 수 있는지 확인합니다.\n"
     ]
    }
   ],
   "source": [
    "target_index = 0  # 고양이\n",
    "target_names = ['고양이','펭귄','닭','타조','참새']\n",
    "print(target_names[target_index], \": 날 수 있는지 확인합니다.\")"
   ]
  },
  {
   "cell_type": "code",
   "execution_count": 25,
   "metadata": {},
   "outputs": [
    {
     "name": "stdout",
     "output_type": "stream",
     "text": [
      "날 수 없다\n"
     ]
    }
   ],
   "source": [
    "# 날개 유무\n",
    "if data['wing'][target_index]: # 날개 있음\n",
    "    if data['weight'][target_index]=='heavy':\n",
    "        print('날 수 없다.')\n",
    "    else:\n",
    "        #골밀도\n",
    "      if data['density'][target_index]=='high':\n",
    "          print('날 수 없다.')\n",
    "      else:\n",
    "          print('날 수 있다.')                                      \n",
    "else:  # 날개 없음\n",
    "    print('날 수 없다')"
   ]
  }
 ],
 "metadata": {
  "kernelspec": {
   "display_name": "base",
   "language": "python",
   "name": "python3"
  },
  "language_info": {
   "codemirror_mode": {
    "name": "ipython",
    "version": 3
   },
   "file_extension": ".py",
   "mimetype": "text/x-python",
   "name": "python",
   "nbconvert_exporter": "python",
   "pygments_lexer": "ipython3",
   "version": "3.9.13"
  },
  "orig_nbformat": 4
 },
 "nbformat": 4,
 "nbformat_minor": 2
}
